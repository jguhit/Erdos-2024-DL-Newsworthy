{
 "cells": [
  {
   "cell_type": "code",
   "execution_count": 1,
   "metadata": {},
   "outputs": [],
   "source": [
    "# !pip install torch torchvision\n"
   ]
  },
  {
   "cell_type": "code",
   "execution_count": 2,
   "metadata": {},
   "outputs": [],
   "source": [
    "# !pip install transformers"
   ]
  },
  {
   "cell_type": "markdown",
   "metadata": {},
   "source": [
    "## Comparing prebuilt roberta financial sentiment analyzer to finvader\n",
    "\n",
    "as a note, had to downgrade to numpy 1.24.4 for compatibility reasons with transfomers library"
   ]
  },
  {
   "cell_type": "code",
   "execution_count": 83,
   "metadata": {},
   "outputs": [],
   "source": [
    "import numpy as np\n",
    "import torch \n",
    "import pandas as pd\n",
    "import torchvision\n",
    "import torch.nn as nn\n",
    "import torch.optim as optim\n",
    "from torch.utils.data import DataLoader\n",
    "from transformers import pipeline\n",
    "from transformers import AutoConfig\n",
    "import datetime\n",
    "# torch.set_printoptions(edgeitems=2, precision=2, linewidth=75)\n"
   ]
  },
  {
   "cell_type": "code",
   "execution_count": 4,
   "metadata": {},
   "outputs": [],
   "source": [
    "#Using mac gpu, change if needed\n",
    "device = torch.device(\"mps\" if torch.backends.mps.is_available() else \"cpu\")"
   ]
  },
  {
   "cell_type": "code",
   "execution_count": 5,
   "metadata": {},
   "outputs": [
    {
     "data": {
      "text/plain": [
       "\"The segment is an invaluable asset to Apple's overall business.\""
      ]
     },
     "execution_count": 5,
     "metadata": {},
     "output_type": "execute_result"
    }
   ],
   "source": [
    "#filter for only the articles\n",
    "articles = pd.read_csv('./data/complete_next_open.csv')\n",
    "articles = articles[articles['Headline'].notna()]\n",
    "articles['Text'].iloc[0]"
   ]
  },
  {
   "cell_type": "markdown",
   "metadata": {},
   "source": [
    "We are importing the distilroberta sentiment analyzer with the most downloads on hugging face."
   ]
  },
  {
   "cell_type": "code",
   "execution_count": 26,
   "metadata": {},
   "outputs": [
    {
     "data": {
      "text/plain": [
       "514"
      ]
     },
     "execution_count": 26,
     "metadata": {},
     "output_type": "execute_result"
    }
   ],
   "source": [
    "model_name = 'mrm8488/distilroberta-finetuned-financial-news-sentiment-analysis'\n",
    "config = AutoConfig.from_pretrained(model_name)\n",
    "config.max_position_embeddings"
   ]
  },
  {
   "cell_type": "code",
   "execution_count": 28,
   "metadata": {},
   "outputs": [],
   "source": [
    "sentiment_pipeline = pipeline(model = model_name,\n",
    "                              device = device, \n",
    "                              batch_size = 8,\n",
    "                              truncation = True)"
   ]
  },
  {
   "cell_type": "markdown",
   "metadata": {},
   "source": [
    "Running an example computation"
   ]
  },
  {
   "cell_type": "code",
   "execution_count": 7,
   "metadata": {},
   "outputs": [],
   "source": [
    "articles = articles[['Headline', 'Text', 'finvader_tot']]"
   ]
  },
  {
   "cell_type": "code",
   "execution_count": 49,
   "metadata": {},
   "outputs": [
    {
     "data": {
      "text/plain": [
       "'Jim Cramer Gives His Opinion On Bank Of America, Sarepta, Wendy\\'s And More. On CNBC\\'s \"Mad Money Lightning Round\", Jim Cramer said Bank of America Corp (NYSE: BAC) is too inexpensive.'"
      ]
     },
     "execution_count": 49,
     "metadata": {},
     "output_type": "execute_result"
    }
   ],
   "source": [
    "articles.iloc[1]['Headline'] + '. '+articles.iloc[1]['Text']"
   ]
  },
  {
   "cell_type": "code",
   "execution_count": 18,
   "metadata": {},
   "outputs": [
    {
     "data": {
      "text/plain": [
       "[{'label': 'negative', 'score': 0.9783570170402527}]"
      ]
     },
     "execution_count": 18,
     "metadata": {},
     "output_type": "execute_result"
    }
   ],
   "source": [
    "sentiment_pipeline(articles.iloc[1]['Text'])\n",
    "#spits out a list of dictionaries, one for each input"
   ]
  },
  {
   "cell_type": "markdown",
   "metadata": {},
   "source": [
    "Now let's apply to the whole dataframe. \n",
    "\n",
    "One thing to be wary about is that some of the text is longer than allowed by the model (514 tokens). To get around this, the basic function below should be updated to do some sort of splitting and aggregation, e.g. cutting the text into shorter lengths and averaging the scores for each length. To make the splits less arbitrary, maybe splitting along sentence ends. However, aggregation is not an ideal way to accommodate sentiment, especially since 'chunks' would not, in theory, affect each other, but would to a human reader.\n",
    "\n",
    "The most straightforward method is truncation, but this is also not ideal. However, it is easiest to implement so done below"
   ]
  },
  {
   "cell_type": "code",
   "execution_count": 22,
   "metadata": {},
   "outputs": [],
   "source": [
    "def sentiment_scores(text:str):\n",
    "    result = sentiment_pipeline(text)[0]\n",
    "    return pd.Series([result['label'], result['score']])\n"
   ]
  },
  {
   "cell_type": "code",
   "execution_count": 65,
   "metadata": {},
   "outputs": [
    {
     "data": {
      "text/plain": [
       "0    positive\n",
       "1     0.99965\n",
       "dtype: object"
      ]
     },
     "execution_count": 65,
     "metadata": {},
     "output_type": "execute_result"
    }
   ],
   "source": [
    "sentiment_scores(articles.apply(lambda x: x['Headline'] +'. ' + x['Text'], axis = 1).iloc[4])\n",
    "\n"
   ]
  },
  {
   "cell_type": "code",
   "execution_count": 62,
   "metadata": {},
   "outputs": [
    {
     "data": {
      "text/html": [
       "<div>\n",
       "<style scoped>\n",
       "    .dataframe tbody tr th:only-of-type {\n",
       "        vertical-align: middle;\n",
       "    }\n",
       "\n",
       "    .dataframe tbody tr th {\n",
       "        vertical-align: top;\n",
       "    }\n",
       "\n",
       "    .dataframe thead th {\n",
       "        text-align: right;\n",
       "    }\n",
       "</style>\n",
       "<table border=\"1\" class=\"dataframe\">\n",
       "  <thead>\n",
       "    <tr style=\"text-align: right;\">\n",
       "      <th></th>\n",
       "      <th>Headline</th>\n",
       "      <th>Text</th>\n",
       "      <th>finvader_tot</th>\n",
       "      <th>rob_sentiment</th>\n",
       "      <th>rob_score</th>\n",
       "      <th>fin_sentiment</th>\n",
       "    </tr>\n",
       "  </thead>\n",
       "  <tbody>\n",
       "    <tr>\n",
       "      <th>150</th>\n",
       "      <td>Don't Underestimate Apple's iPhone Business</td>\n",
       "      <td>The segment is an invaluable asset to Apple's ...</td>\n",
       "      <td>0.0396</td>\n",
       "      <td>positive</td>\n",
       "      <td>0.669296</td>\n",
       "      <td>neutral</td>\n",
       "    </tr>\n",
       "    <tr>\n",
       "      <th>153</th>\n",
       "      <td>Jim Cramer Gives His Opinion On Bank Of Americ...</td>\n",
       "      <td>On CNBC's \"Mad Money Lightning Round\", Jim Cra...</td>\n",
       "      <td>0.0129</td>\n",
       "      <td>neutral</td>\n",
       "      <td>0.994898</td>\n",
       "      <td>neutral</td>\n",
       "    </tr>\n",
       "    <tr>\n",
       "      <th>154</th>\n",
       "      <td>Uber And Waymo Seeking Outside Funding For Aut...</td>\n",
       "      <td>Commercially viable autonomous vehicle (AV) te...</td>\n",
       "      <td>-0.3215</td>\n",
       "      <td>negative</td>\n",
       "      <td>0.995782</td>\n",
       "      <td>negative</td>\n",
       "    </tr>\n",
       "    <tr>\n",
       "      <th>158</th>\n",
       "      <td>A Closer Look At Mastercard's Key Value Drivers</td>\n",
       "      <td>Mastercard has consistently beat street estima...</td>\n",
       "      <td>0.8922</td>\n",
       "      <td>positive</td>\n",
       "      <td>0.999699</td>\n",
       "      <td>positive</td>\n",
       "    </tr>\n",
       "    <tr>\n",
       "      <th>164</th>\n",
       "      <td>Did Wells Fargo CEO Tim Sloan Earn His $1 Mill...</td>\n",
       "      <td>We learned this week that the scandal-plagued ...</td>\n",
       "      <td>0.2869</td>\n",
       "      <td>positive</td>\n",
       "      <td>0.999650</td>\n",
       "      <td>positive</td>\n",
       "    </tr>\n",
       "  </tbody>\n",
       "</table>\n",
       "</div>"
      ],
      "text/plain": [
       "                                              Headline  \\\n",
       "150        Don't Underestimate Apple's iPhone Business   \n",
       "153  Jim Cramer Gives His Opinion On Bank Of Americ...   \n",
       "154  Uber And Waymo Seeking Outside Funding For Aut...   \n",
       "158    A Closer Look At Mastercard's Key Value Drivers   \n",
       "164  Did Wells Fargo CEO Tim Sloan Earn His $1 Mill...   \n",
       "\n",
       "                                                  Text  finvader_tot  \\\n",
       "150  The segment is an invaluable asset to Apple's ...        0.0396   \n",
       "153  On CNBC's \"Mad Money Lightning Round\", Jim Cra...        0.0129   \n",
       "154  Commercially viable autonomous vehicle (AV) te...       -0.3215   \n",
       "158  Mastercard has consistently beat street estima...        0.8922   \n",
       "164  We learned this week that the scandal-plagued ...        0.2869   \n",
       "\n",
       "    rob_sentiment  rob_score fin_sentiment  \n",
       "150      positive   0.669296       neutral  \n",
       "153       neutral   0.994898       neutral  \n",
       "154      negative   0.995782      negative  \n",
       "158      positive   0.999699      positive  \n",
       "164      positive   0.999650      positive  "
      ]
     },
     "execution_count": 62,
     "metadata": {},
     "output_type": "execute_result"
    }
   ],
   "source": [
    "articles[['rob_sentiment', 'rob_score']] = articles.apply(lambda x: x['Headline'] +'. '+ x['Text'], axis =1).apply(sentiment_scores)\n",
    "articles.head()"
   ]
  },
  {
   "cell_type": "code",
   "execution_count": 36,
   "metadata": {},
   "outputs": [],
   "source": [
    "def fin_sentiment(finscore:int):\n",
    "    threshold = .1\n",
    "    if finscore > threshold:\n",
    "        return 'positive'\n",
    "    elif finscore < -threshold:\n",
    "        return 'negative'\n",
    "    else:\n",
    "        return 'neutral'"
   ]
  },
  {
   "cell_type": "code",
   "execution_count": 67,
   "metadata": {},
   "outputs": [
    {
     "data": {
      "text/html": [
       "<div>\n",
       "<style scoped>\n",
       "    .dataframe tbody tr th:only-of-type {\n",
       "        vertical-align: middle;\n",
       "    }\n",
       "\n",
       "    .dataframe tbody tr th {\n",
       "        vertical-align: top;\n",
       "    }\n",
       "\n",
       "    .dataframe thead th {\n",
       "        text-align: right;\n",
       "    }\n",
       "</style>\n",
       "<table border=\"1\" class=\"dataframe\">\n",
       "  <thead>\n",
       "    <tr style=\"text-align: right;\">\n",
       "      <th></th>\n",
       "      <th>Headline</th>\n",
       "      <th>Text</th>\n",
       "      <th>finvader_tot</th>\n",
       "      <th>rob_sentiment</th>\n",
       "      <th>rob_score</th>\n",
       "      <th>fin_sentiment</th>\n",
       "    </tr>\n",
       "  </thead>\n",
       "  <tbody>\n",
       "    <tr>\n",
       "      <th>150</th>\n",
       "      <td>Don't Underestimate Apple's iPhone Business</td>\n",
       "      <td>The segment is an invaluable asset to Apple's ...</td>\n",
       "      <td>0.0396</td>\n",
       "      <td>positive</td>\n",
       "      <td>0.669296</td>\n",
       "      <td>neutral</td>\n",
       "    </tr>\n",
       "    <tr>\n",
       "      <th>153</th>\n",
       "      <td>Jim Cramer Gives His Opinion On Bank Of Americ...</td>\n",
       "      <td>On CNBC's \"Mad Money Lightning Round\", Jim Cra...</td>\n",
       "      <td>0.0129</td>\n",
       "      <td>neutral</td>\n",
       "      <td>0.994898</td>\n",
       "      <td>neutral</td>\n",
       "    </tr>\n",
       "    <tr>\n",
       "      <th>154</th>\n",
       "      <td>Uber And Waymo Seeking Outside Funding For Aut...</td>\n",
       "      <td>Commercially viable autonomous vehicle (AV) te...</td>\n",
       "      <td>-0.3215</td>\n",
       "      <td>negative</td>\n",
       "      <td>0.995782</td>\n",
       "      <td>negative</td>\n",
       "    </tr>\n",
       "    <tr>\n",
       "      <th>158</th>\n",
       "      <td>A Closer Look At Mastercard's Key Value Drivers</td>\n",
       "      <td>Mastercard has consistently beat street estima...</td>\n",
       "      <td>0.8922</td>\n",
       "      <td>positive</td>\n",
       "      <td>0.999699</td>\n",
       "      <td>positive</td>\n",
       "    </tr>\n",
       "    <tr>\n",
       "      <th>164</th>\n",
       "      <td>Did Wells Fargo CEO Tim Sloan Earn His $1 Mill...</td>\n",
       "      <td>We learned this week that the scandal-plagued ...</td>\n",
       "      <td>0.2869</td>\n",
       "      <td>positive</td>\n",
       "      <td>0.999650</td>\n",
       "      <td>positive</td>\n",
       "    </tr>\n",
       "  </tbody>\n",
       "</table>\n",
       "</div>"
      ],
      "text/plain": [
       "                                              Headline  \\\n",
       "150        Don't Underestimate Apple's iPhone Business   \n",
       "153  Jim Cramer Gives His Opinion On Bank Of Americ...   \n",
       "154  Uber And Waymo Seeking Outside Funding For Aut...   \n",
       "158    A Closer Look At Mastercard's Key Value Drivers   \n",
       "164  Did Wells Fargo CEO Tim Sloan Earn His $1 Mill...   \n",
       "\n",
       "                                                  Text  finvader_tot  \\\n",
       "150  The segment is an invaluable asset to Apple's ...        0.0396   \n",
       "153  On CNBC's \"Mad Money Lightning Round\", Jim Cra...        0.0129   \n",
       "154  Commercially viable autonomous vehicle (AV) te...       -0.3215   \n",
       "158  Mastercard has consistently beat street estima...        0.8922   \n",
       "164  We learned this week that the scandal-plagued ...        0.2869   \n",
       "\n",
       "    rob_sentiment  rob_score fin_sentiment  \n",
       "150      positive   0.669296       neutral  \n",
       "153       neutral   0.994898       neutral  \n",
       "154      negative   0.995782      negative  \n",
       "158      positive   0.999699      positive  \n",
       "164      positive   0.999650      positive  "
      ]
     },
     "execution_count": 67,
     "metadata": {},
     "output_type": "execute_result"
    }
   ],
   "source": [
    "articles['fin_sentiment'] = articles['finvader_tot'].apply(fin_sentiment)\n",
    "articles.head()"
   ]
  },
  {
   "cell_type": "code",
   "execution_count": 68,
   "metadata": {},
   "outputs": [
    {
     "name": "stdout",
     "output_type": "stream",
     "text": [
      "Agrees on 0.5699417609845691 %\n"
     ]
    }
   ],
   "source": [
    "comparisons = articles['fin_sentiment'] == articles['rob_sentiment']\n",
    "print(f'Agrees on {len(comparisons[comparisons])/len(comparisons)} %')"
   ]
  },
  {
   "cell_type": "code",
   "execution_count": 86,
   "metadata": {},
   "outputs": [
    {
     "data": {
      "text/html": [
       "<div>\n",
       "<style scoped>\n",
       "    .dataframe tbody tr th:only-of-type {\n",
       "        vertical-align: middle;\n",
       "    }\n",
       "\n",
       "    .dataframe tbody tr th {\n",
       "        vertical-align: top;\n",
       "    }\n",
       "\n",
       "    .dataframe thead th {\n",
       "        text-align: right;\n",
       "    }\n",
       "</style>\n",
       "<table border=\"1\" class=\"dataframe\">\n",
       "  <thead>\n",
       "    <tr style=\"text-align: right;\">\n",
       "      <th></th>\n",
       "      <th>Publishing Time</th>\n",
       "      <th>Market Date</th>\n",
       "      <th>Ticker</th>\n",
       "      <th>Sector</th>\n",
       "      <th>finvader_neg</th>\n",
       "      <th>finvader_neu</th>\n",
       "      <th>finvader_pos</th>\n",
       "      <th>finvader_tot</th>\n",
       "      <th>Source</th>\n",
       "      <th>Headline</th>\n",
       "      <th>Text</th>\n",
       "      <th>URL</th>\n",
       "      <th>Open</th>\n",
       "      <th>High</th>\n",
       "      <th>Low</th>\n",
       "      <th>Close</th>\n",
       "      <th>Volume</th>\n",
       "      <th>Dividends</th>\n",
       "      <th>Stock Splits</th>\n",
       "    </tr>\n",
       "  </thead>\n",
       "  <tbody>\n",
       "    <tr>\n",
       "      <th>0</th>\n",
       "      <td>NaN</td>\n",
       "      <td>2019-03-01</td>\n",
       "      <td>AAPL</td>\n",
       "      <td>Technology</td>\n",
       "      <td>NaN</td>\n",
       "      <td>NaN</td>\n",
       "      <td>NaN</td>\n",
       "      <td>NaN</td>\n",
       "      <td>NaN</td>\n",
       "      <td>NaN</td>\n",
       "      <td>NaN</td>\n",
       "      <td>NaN</td>\n",
       "      <td>41.887973</td>\n",
       "      <td>42.097075</td>\n",
       "      <td>41.553888</td>\n",
       "      <td>42.053814</td>\n",
       "      <td>103544800</td>\n",
       "      <td>0.0</td>\n",
       "      <td>0.0</td>\n",
       "    </tr>\n",
       "    <tr>\n",
       "      <th>1</th>\n",
       "      <td>NaN</td>\n",
       "      <td>2019-03-01</td>\n",
       "      <td>ABBV</td>\n",
       "      <td>Healthcare</td>\n",
       "      <td>NaN</td>\n",
       "      <td>NaN</td>\n",
       "      <td>NaN</td>\n",
       "      <td>NaN</td>\n",
       "      <td>NaN</td>\n",
       "      <td>NaN</td>\n",
       "      <td>NaN</td>\n",
       "      <td>NaN</td>\n",
       "      <td>62.740368</td>\n",
       "      <td>63.589807</td>\n",
       "      <td>62.354977</td>\n",
       "      <td>62.999920</td>\n",
       "      <td>8567900</td>\n",
       "      <td>0.0</td>\n",
       "      <td>0.0</td>\n",
       "    </tr>\n",
       "    <tr>\n",
       "      <th>2</th>\n",
       "      <td>NaN</td>\n",
       "      <td>2019-03-01</td>\n",
       "      <td>AMZN</td>\n",
       "      <td>Technology</td>\n",
       "      <td>NaN</td>\n",
       "      <td>NaN</td>\n",
       "      <td>NaN</td>\n",
       "      <td>NaN</td>\n",
       "      <td>NaN</td>\n",
       "      <td>NaN</td>\n",
       "      <td>NaN</td>\n",
       "      <td>NaN</td>\n",
       "      <td>82.756500</td>\n",
       "      <td>83.712997</td>\n",
       "      <td>82.550003</td>\n",
       "      <td>83.586502</td>\n",
       "      <td>99498000</td>\n",
       "      <td>0.0</td>\n",
       "      <td>0.0</td>\n",
       "    </tr>\n",
       "    <tr>\n",
       "      <th>3</th>\n",
       "      <td>NaN</td>\n",
       "      <td>2019-03-01</td>\n",
       "      <td>BAC</td>\n",
       "      <td>Finance</td>\n",
       "      <td>NaN</td>\n",
       "      <td>NaN</td>\n",
       "      <td>NaN</td>\n",
       "      <td>NaN</td>\n",
       "      <td>NaN</td>\n",
       "      <td>NaN</td>\n",
       "      <td>NaN</td>\n",
       "      <td>NaN</td>\n",
       "      <td>25.918994</td>\n",
       "      <td>26.201778</td>\n",
       "      <td>25.812949</td>\n",
       "      <td>25.901320</td>\n",
       "      <td>45771500</td>\n",
       "      <td>0.0</td>\n",
       "      <td>0.0</td>\n",
       "    </tr>\n",
       "    <tr>\n",
       "      <th>4</th>\n",
       "      <td>NaN</td>\n",
       "      <td>2019-03-01</td>\n",
       "      <td>GOOGL</td>\n",
       "      <td>Technology</td>\n",
       "      <td>NaN</td>\n",
       "      <td>NaN</td>\n",
       "      <td>NaN</td>\n",
       "      <td>NaN</td>\n",
       "      <td>NaN</td>\n",
       "      <td>NaN</td>\n",
       "      <td>NaN</td>\n",
       "      <td>NaN</td>\n",
       "      <td>56.549999</td>\n",
       "      <td>57.500000</td>\n",
       "      <td>56.549999</td>\n",
       "      <td>57.425999</td>\n",
       "      <td>34086000</td>\n",
       "      <td>0.0</td>\n",
       "      <td>0.0</td>\n",
       "    </tr>\n",
       "  </tbody>\n",
       "</table>\n",
       "</div>"
      ],
      "text/plain": [
       "  Publishing Time Market Date Ticker      Sector  finvader_neg  finvader_neu  \\\n",
       "0             NaN  2019-03-01   AAPL  Technology           NaN           NaN   \n",
       "1             NaN  2019-03-01   ABBV  Healthcare           NaN           NaN   \n",
       "2             NaN  2019-03-01   AMZN  Technology           NaN           NaN   \n",
       "3             NaN  2019-03-01    BAC     Finance           NaN           NaN   \n",
       "4             NaN  2019-03-01  GOOGL  Technology           NaN           NaN   \n",
       "\n",
       "   finvader_pos  finvader_tot Source Headline Text  URL       Open       High  \\\n",
       "0           NaN           NaN    NaN      NaN  NaN  NaN  41.887973  42.097075   \n",
       "1           NaN           NaN    NaN      NaN  NaN  NaN  62.740368  63.589807   \n",
       "2           NaN           NaN    NaN      NaN  NaN  NaN  82.756500  83.712997   \n",
       "3           NaN           NaN    NaN      NaN  NaN  NaN  25.918994  26.201778   \n",
       "4           NaN           NaN    NaN      NaN  NaN  NaN  56.549999  57.500000   \n",
       "\n",
       "         Low      Close     Volume  Dividends  Stock Splits  \n",
       "0  41.553888  42.053814  103544800        0.0           0.0  \n",
       "1  62.354977  62.999920    8567900        0.0           0.0  \n",
       "2  82.550003  83.586502   99498000        0.0           0.0  \n",
       "3  25.812949  25.901320   45771500        0.0           0.0  \n",
       "4  56.549999  57.425999   34086000        0.0           0.0  "
      ]
     },
     "execution_count": 86,
     "metadata": {},
     "output_type": "execute_result"
    }
   ],
   "source": [
    "old = pd.read_csv('./data/complete_next_open.csv')\n",
    "old.head()\n"
   ]
  },
  {
   "cell_type": "code",
   "execution_count": 87,
   "metadata": {},
   "outputs": [
    {
     "data": {
      "text/html": [
       "<div>\n",
       "<style scoped>\n",
       "    .dataframe tbody tr th:only-of-type {\n",
       "        vertical-align: middle;\n",
       "    }\n",
       "\n",
       "    .dataframe tbody tr th {\n",
       "        vertical-align: top;\n",
       "    }\n",
       "\n",
       "    .dataframe thead th {\n",
       "        text-align: right;\n",
       "    }\n",
       "</style>\n",
       "<table border=\"1\" class=\"dataframe\">\n",
       "  <thead>\n",
       "    <tr style=\"text-align: right;\">\n",
       "      <th></th>\n",
       "      <th>Publishing Time</th>\n",
       "      <th>Market Date</th>\n",
       "      <th>Ticker</th>\n",
       "      <th>Sector</th>\n",
       "      <th>finvader_neg</th>\n",
       "      <th>finvader_neu</th>\n",
       "      <th>finvader_pos</th>\n",
       "      <th>finvader_tot</th>\n",
       "      <th>Source</th>\n",
       "      <th>Headline</th>\n",
       "      <th>...</th>\n",
       "      <th>Open</th>\n",
       "      <th>High</th>\n",
       "      <th>Low</th>\n",
       "      <th>Close</th>\n",
       "      <th>Volume</th>\n",
       "      <th>Dividends</th>\n",
       "      <th>Stock Splits</th>\n",
       "      <th>rob_sentiment</th>\n",
       "      <th>rob_score</th>\n",
       "      <th>fin_sentiment</th>\n",
       "    </tr>\n",
       "  </thead>\n",
       "  <tbody>\n",
       "    <tr>\n",
       "      <th>0</th>\n",
       "      <td>2019-10-23 20:18:00+00:00</td>\n",
       "      <td>2019-10-24</td>\n",
       "      <td>AMZN</td>\n",
       "      <td>Technology</td>\n",
       "      <td>0.077</td>\n",
       "      <td>0.616</td>\n",
       "      <td>0.306</td>\n",
       "      <td>0.6053</td>\n",
       "      <td>Zacks Investment Research</td>\n",
       "      <td>\"Alexa, Play the News\": Amazon Launches Fire T...</td>\n",
       "      <td>...</td>\n",
       "      <td>88.554497</td>\n",
       "      <td>89.417000</td>\n",
       "      <td>88.013496</td>\n",
       "      <td>89.039001</td>\n",
       "      <td>88922000</td>\n",
       "      <td>0.0</td>\n",
       "      <td>0.0</td>\n",
       "      <td>positive</td>\n",
       "      <td>0.938327</td>\n",
       "      <td>positive</td>\n",
       "    </tr>\n",
       "    <tr>\n",
       "      <th>1</th>\n",
       "      <td>2019-03-26 23:41:00+00:00</td>\n",
       "      <td>2019-03-27</td>\n",
       "      <td>GOOGL</td>\n",
       "      <td>Technology</td>\n",
       "      <td>0.000</td>\n",
       "      <td>1.000</td>\n",
       "      <td>0.000</td>\n",
       "      <td>0.0000</td>\n",
       "      <td>The Motley Fool</td>\n",
       "      <td>\"Alphabet Earnings\" Mark Your Calendar</td>\n",
       "      <td>...</td>\n",
       "      <td>59.596001</td>\n",
       "      <td>59.596001</td>\n",
       "      <td>58.211498</td>\n",
       "      <td>58.900501</td>\n",
       "      <td>29428000</td>\n",
       "      <td>0.0</td>\n",
       "      <td>0.0</td>\n",
       "      <td>neutral</td>\n",
       "      <td>0.999879</td>\n",
       "      <td>neutral</td>\n",
       "    </tr>\n",
       "    <tr>\n",
       "      <th>2</th>\n",
       "      <td>2021-08-19 15:49:28+00:00</td>\n",
       "      <td>2021-08-20</td>\n",
       "      <td>NVDA</td>\n",
       "      <td>Technology</td>\n",
       "      <td>0.000</td>\n",
       "      <td>0.823</td>\n",
       "      <td>0.177</td>\n",
       "      <td>0.3909</td>\n",
       "      <td>Business Insider</td>\n",
       "      <td>\"Demand continues to outpace supply\": Here's w...</td>\n",
       "      <td>...</td>\n",
       "      <td>199.565678</td>\n",
       "      <td>208.290614</td>\n",
       "      <td>198.986675</td>\n",
       "      <td>207.801468</td>\n",
       "      <td>67574100</td>\n",
       "      <td>0.0</td>\n",
       "      <td>0.0</td>\n",
       "      <td>positive</td>\n",
       "      <td>0.998652</td>\n",
       "      <td>positive</td>\n",
       "    </tr>\n",
       "    <tr>\n",
       "      <th>3</th>\n",
       "      <td>2020-08-15 12:07:00+00:00</td>\n",
       "      <td>2020-08-17</td>\n",
       "      <td>AAPL</td>\n",
       "      <td>Technology</td>\n",
       "      <td>0.072</td>\n",
       "      <td>0.807</td>\n",
       "      <td>0.121</td>\n",
       "      <td>-0.3193</td>\n",
       "      <td>The Motley Fool</td>\n",
       "      <td>\"Fortnite\" Publisher Epic Games Wants to Chang...</td>\n",
       "      <td>...</td>\n",
       "      <td>113.552773</td>\n",
       "      <td>113.577234</td>\n",
       "      <td>111.498185</td>\n",
       "      <td>112.129234</td>\n",
       "      <td>119561600</td>\n",
       "      <td>0.0</td>\n",
       "      <td>0.0</td>\n",
       "      <td>neutral</td>\n",
       "      <td>0.999724</td>\n",
       "      <td>negative</td>\n",
       "    </tr>\n",
       "    <tr>\n",
       "      <th>4</th>\n",
       "      <td>2022-12-29 00:08:20+00:00</td>\n",
       "      <td>2022-12-29</td>\n",
       "      <td>AAPL</td>\n",
       "      <td>Technology</td>\n",
       "      <td>0.068</td>\n",
       "      <td>0.779</td>\n",
       "      <td>0.153</td>\n",
       "      <td>0.0775</td>\n",
       "      <td>Zacks Investment Research</td>\n",
       "      <td>\"Krampus Rally\" Threatens Last Sessions of 2022</td>\n",
       "      <td>...</td>\n",
       "      <td>126.944168</td>\n",
       "      <td>129.413820</td>\n",
       "      <td>126.686298</td>\n",
       "      <td>128.550934</td>\n",
       "      <td>75703700</td>\n",
       "      <td>0.0</td>\n",
       "      <td>0.0</td>\n",
       "      <td>positive</td>\n",
       "      <td>0.995475</td>\n",
       "      <td>neutral</td>\n",
       "    </tr>\n",
       "  </tbody>\n",
       "</table>\n",
       "<p>5 rows × 22 columns</p>\n",
       "</div>"
      ],
      "text/plain": [
       "             Publishing Time Market Date Ticker      Sector  finvader_neg  \\\n",
       "0  2019-10-23 20:18:00+00:00  2019-10-24   AMZN  Technology         0.077   \n",
       "1  2019-03-26 23:41:00+00:00  2019-03-27  GOOGL  Technology         0.000   \n",
       "2  2021-08-19 15:49:28+00:00  2021-08-20   NVDA  Technology         0.000   \n",
       "3  2020-08-15 12:07:00+00:00  2020-08-17   AAPL  Technology         0.072   \n",
       "4  2022-12-29 00:08:20+00:00  2022-12-29   AAPL  Technology         0.068   \n",
       "\n",
       "   finvader_neu  finvader_pos  finvader_tot                     Source  \\\n",
       "0         0.616         0.306        0.6053  Zacks Investment Research   \n",
       "1         1.000         0.000        0.0000            The Motley Fool   \n",
       "2         0.823         0.177        0.3909           Business Insider   \n",
       "3         0.807         0.121       -0.3193            The Motley Fool   \n",
       "4         0.779         0.153        0.0775  Zacks Investment Research   \n",
       "\n",
       "                                            Headline  ...        Open  \\\n",
       "0  \"Alexa, Play the News\": Amazon Launches Fire T...  ...   88.554497   \n",
       "1             \"Alphabet Earnings\" Mark Your Calendar  ...   59.596001   \n",
       "2  \"Demand continues to outpace supply\": Here's w...  ...  199.565678   \n",
       "3  \"Fortnite\" Publisher Epic Games Wants to Chang...  ...  113.552773   \n",
       "4    \"Krampus Rally\" Threatens Last Sessions of 2022  ...  126.944168   \n",
       "\n",
       "         High         Low       Close     Volume  Dividends  Stock Splits  \\\n",
       "0   89.417000   88.013496   89.039001   88922000        0.0           0.0   \n",
       "1   59.596001   58.211498   58.900501   29428000        0.0           0.0   \n",
       "2  208.290614  198.986675  207.801468   67574100        0.0           0.0   \n",
       "3  113.577234  111.498185  112.129234  119561600        0.0           0.0   \n",
       "4  129.413820  126.686298  128.550934   75703700        0.0           0.0   \n",
       "\n",
       "   rob_sentiment  rob_score fin_sentiment  \n",
       "0       positive   0.938327      positive  \n",
       "1        neutral   0.999879       neutral  \n",
       "2       positive   0.998652      positive  \n",
       "3        neutral   0.999724      negative  \n",
       "4       positive   0.995475       neutral  \n",
       "\n",
       "[5 rows x 22 columns]"
      ]
     },
     "execution_count": 87,
     "metadata": {},
     "output_type": "execute_result"
    }
   ],
   "source": [
    "new = pd.merge(old, articles, on = ['Headline', 'Text', 'finvader_tot'], how = 'outer')\n",
    "new.head()"
   ]
  },
  {
   "cell_type": "code",
   "execution_count": 88,
   "metadata": {},
   "outputs": [],
   "source": [
    "new['Market Date'] = pd.to_datetime(new['Market Date'])\n",
    "new.set_index('Market Date', inplace = True)\n",
    "new.sort_index(inplace = True)"
   ]
  },
  {
   "cell_type": "code",
   "execution_count": 93,
   "metadata": {},
   "outputs": [
    {
     "data": {
      "text/plain": [
       "Publishing Time                            2019-03-18 17:45:02+00:00\n",
       "Ticker                                                          AAPL\n",
       "Sector                                                    Technology\n",
       "finvader_neg                                                   0.044\n",
       "finvader_neu                                                   0.595\n",
       "finvader_pos                                                   0.361\n",
       "finvader_tot                                                  0.6657\n",
       "Source                                               The Motley Fool\n",
       "Headline           A Foolish Take: The iPhone's Market Share in t...\n",
       "Text               Apple's flagship device continues to enjoy a h...\n",
       "URL                https://www.fool.com/investing/2019/03/18/a-fo...\n",
       "Open                                                       45.269685\n",
       "High                                                       45.423508\n",
       "Low                                                        44.685636\n",
       "Close                                                      44.832249\n",
       "Volume                                                     126585600\n",
       "Dividends                                                        0.0\n",
       "Stock Splits                                                     0.0\n",
       "rob_sentiment                                               positive\n",
       "rob_score                                                   0.999654\n",
       "fin_sentiment                                               positive\n",
       "Name: 2019-03-19 00:00:00, dtype: object"
      ]
     },
     "execution_count": 93,
     "metadata": {},
     "output_type": "execute_result"
    }
   ],
   "source": [
    "new.head()\n",
    "new.iloc[203]"
   ]
  },
  {
   "cell_type": "code",
   "execution_count": 94,
   "metadata": {},
   "outputs": [],
   "source": [
    "# new.to_csv('data/prebuit_rob_sentiment.csv')"
   ]
  },
  {
   "cell_type": "markdown",
   "metadata": {},
   "source": [
    "This is a noticeable difference! But one thing we haven't incorporated is the softmax scores given by roberta. For instance, the first article in our dataframe is labelled differently by roberta and finvader, but the roberta softmax is around .66 so it isn't as confident on it. \n",
    "\n",
    "However, reading the article text certainly does indicate the roberta score is more accurate, compared to the finvader score at least. "
   ]
  },
  {
   "cell_type": "markdown",
   "metadata": {},
   "source": [
    "## Finetuning our own Analyzer?\n",
    "\n",
    "Might be worth to see if we finetune our own how that goes. Of course, we need a proper dataset, and reusing the one from the above pretrained model is redundant. "
   ]
  },
  {
   "cell_type": "markdown",
   "metadata": {},
   "source": [
    "## Comparisons via older models\n",
    "\n",
    "One thing we should do is see how the older models function with these sentiment scores rather than the finvader ones. However, we effectively lose the 'scalar' classification, instead only having a binary classfication tell us how to see the article. 'Averaging' to get sentiment on the day is thus very difficult.\n",
    "\n",
    "Some solutions to this averaging problem include:\n",
    "1. Taking counts of the articles and using that as our input instead.\n",
    "2. Modifying the finvader scores by the Roberta ones?"
   ]
  },
  {
   "cell_type": "code",
   "execution_count": null,
   "metadata": {},
   "outputs": [],
   "source": []
  }
 ],
 "metadata": {
  "kernelspec": {
   "display_name": "erdos_2024_dl_newsworthy",
   "language": "python",
   "name": "python3"
  },
  "language_info": {
   "codemirror_mode": {
    "name": "ipython",
    "version": 3
   },
   "file_extension": ".py",
   "mimetype": "text/x-python",
   "name": "python",
   "nbconvert_exporter": "python",
   "pygments_lexer": "ipython3",
   "version": "3.11.9"
  }
 },
 "nbformat": 4,
 "nbformat_minor": 2
}
